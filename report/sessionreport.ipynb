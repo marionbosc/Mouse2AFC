{
 "cells": [
  {
   "cell_type": "code",
   "execution_count": 8,
   "metadata": {},
   "outputs": [
    {
     "output_type": "stream",
     "name": "stdout",
     "text": [
      "The autoreload extension is already loaded. To reload it, use:\n  %reload_ext autoreload\n"
     ]
    }
   ],
   "source": [
    "%load_ext autoreload\n",
    "%autoreload 2\n",
    "\n",
    "\n",
    "#TODO: Copy sessionreport notebook and .py from the server"
   ]
  },
  {
   "cell_type": "code",
   "execution_count": 7,
   "metadata": {},
   "outputs": [
    {
     "output_type": "stream",
     "name": "stdout",
     "text": [
      "Final dirs: ['C:\\\\BpodUser\\\\data\\\\vgat2.1', 'C:\\\\BpodUser\\\\data\\\\vgat2.5']\n",
      "Using 5 workers\n",
      "Fired all workers\n",
      "Animal dir: C:\\BpodUser\\data\\vgat2.1 done\n",
      "Animal dir: C:\\BpodUser\\data\\vgat2.5 done\n",
      "Closing\n",
      "Joining\n",
      "All done\n"
     ]
    }
   ],
   "source": [
    "#SESSION_NAME=\"Dummy Subject_Mouse2AFC_Feb04_2021_Session14.mat\"\n",
    "#SESSION_NAME=\"vgat2.5_Mouse2AFC_Dec22_2020_Session1.mat\"\n",
    "#df = makeReport(SESSION_NAME, show_fig=False, save_fig=True)\n",
    "if __name__ == \"__main__\":\n",
    "  import sessionreport\n",
    "  sessionreport.regenerateAllSessionReport()"
   ]
  }
 ],
 "metadata": {
  "colab": {
   "collapsed_sections": [],
   "name": "simplified_analysis.ipynb",
   "provenance": []
  },
  "kernelspec": {
   "display_name": "Python 3",
   "language": "python",
   "name": "python3"
  },
  "language_info": {
   "codemirror_mode": {
    "name": "ipython",
    "version": 3
   },
   "file_extension": ".py",
   "mimetype": "text/x-python",
   "name": "python",
   "nbconvert_exporter": "python",
   "pygments_lexer": "ipython3",
   "version": "3.8.3-final"
  }
 },
 "nbformat": 4,
 "nbformat_minor": 1
}