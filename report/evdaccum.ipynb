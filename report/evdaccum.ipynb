{
 "metadata": {
  "language_info": {
   "codemirror_mode": {
    "name": "ipython",
    "version": 3
   },
   "file_extension": ".py",
   "mimetype": "text/x-python",
   "name": "python",
   "nbconvert_exporter": "python",
   "pygments_lexer": "ipython3",
   "version": "3.8.3-final"
  },
  "orig_nbformat": 2,
  "kernelspec": {
   "name": "python3",
   "display_name": "Python 3",
   "language": "python"
  }
 },
 "nbformat": 4,
 "nbformat_minor": 2,
 "cells": [
  {
   "cell_type": "code",
   "execution_count": 4,
   "metadata": {},
   "outputs": [
    {
     "output_type": "stream",
     "name": "stdout",
     "text": [
      "The autoreload extension is already loaded. To reload it, use:\n  %reload_ext autoreload\nDidn't Imported analysis\n"
     ]
    },
    {
     "output_type": "error",
     "ename": "ModuleNotFoundError",
     "evalue": "No module named 'report'",
     "traceback": [
      "\u001b[1;31m---------------------------------------------------------------------------\u001b[0m",
      "\u001b[1;31mModuleNotFoundError\u001b[0m                       Traceback (most recent call last)",
      "\u001b[1;32m<ipython-input-4-0da4ba2e89b6>\u001b[0m in \u001b[0;36m<module>\u001b[1;34m\u001b[0m\n\u001b[0;32m     29\u001b[0m   \u001b[1;32mfrom\u001b[0m \u001b[0mreport\u001b[0m \u001b[1;32mimport\u001b[0m \u001b[0manalysis\u001b[0m\u001b[1;33m\u001b[0m\u001b[1;33m\u001b[0m\u001b[0m\n\u001b[0;32m     30\u001b[0m   \u001b[0manalysis\u001b[0m\u001b[1;33m.\u001b[0m\u001b[0msetMatplotlibParams\u001b[0m\u001b[1;33m(\u001b[0m\u001b[0msilent\u001b[0m\u001b[1;33m=\u001b[0m\u001b[1;32mTrue\u001b[0m\u001b[1;33m)\u001b[0m\u001b[1;33m\u001b[0m\u001b[1;33m\u001b[0m\u001b[0m\n\u001b[1;32m---> 31\u001b[1;33m \u001b[0msetup\u001b[0m\u001b[1;33m(\u001b[0m\u001b[1;33m)\u001b[0m\u001b[1;33m\u001b[0m\u001b[1;33m\u001b[0m\u001b[0m\n\u001b[0m",
      "\u001b[1;32m<ipython-input-4-0da4ba2e89b6>\u001b[0m in \u001b[0;36msetup\u001b[1;34m()\u001b[0m\n\u001b[0;32m     27\u001b[0m     \u001b[1;32mimport\u001b[0m \u001b[0msys\u001b[0m\u001b[1;33m\u001b[0m\u001b[1;33m\u001b[0m\u001b[0m\n\u001b[0;32m     28\u001b[0m     \u001b[1;32mdel\u001b[0m \u001b[0msys\u001b[0m\u001b[1;33m.\u001b[0m\u001b[0mmodules\u001b[0m\u001b[1;33m[\u001b[0m\u001b[1;34m\"analysis\"\u001b[0m\u001b[1;33m]\u001b[0m\u001b[1;33m\u001b[0m\u001b[1;33m\u001b[0m\u001b[0m\n\u001b[1;32m---> 29\u001b[1;33m   \u001b[1;32mfrom\u001b[0m \u001b[0mreport\u001b[0m \u001b[1;32mimport\u001b[0m \u001b[0manalysis\u001b[0m\u001b[1;33m\u001b[0m\u001b[1;33m\u001b[0m\u001b[0m\n\u001b[0m\u001b[0;32m     30\u001b[0m   \u001b[0manalysis\u001b[0m\u001b[1;33m.\u001b[0m\u001b[0msetMatplotlibParams\u001b[0m\u001b[1;33m(\u001b[0m\u001b[0msilent\u001b[0m\u001b[1;33m=\u001b[0m\u001b[1;32mTrue\u001b[0m\u001b[1;33m)\u001b[0m\u001b[1;33m\u001b[0m\u001b[1;33m\u001b[0m\u001b[0m\n\u001b[0;32m     31\u001b[0m \u001b[0msetup\u001b[0m\u001b[1;33m(\u001b[0m\u001b[1;33m)\u001b[0m\u001b[1;33m\u001b[0m\u001b[1;33m\u001b[0m\u001b[0m\n",
      "\u001b[1;31mModuleNotFoundError\u001b[0m: No module named 'report'"
     ]
    }
   ],
   "source": [
    "def loadDfs():\n",
    "  dfs_to_load = [\n",
    "    \"~/OneDrive/Mouse2AFC_live/report/aggregates/all_Rbp4_M2.dump\",\n",
    "    #raw_df = pd.read_pickle(\"~/OneDrive/Mouse2AFC_live/report/aggregates/all_vgat.dump\")\n",
    "  ]\n",
    "  import pandas as pd\n",
    "  dfs = []\n",
    "  for fp in dfs_to_load:\n",
    "    dfs.append(pd.read_pickle(fp))\n",
    "  return pd.concat(dfs)\n",
    "raw_df = loadDfs()\n",
    "%load_ext autoreload\n",
    "%autoreload 2\n",
    "def setup():\n",
    "  try:\n",
    "    import analysis\n",
    "    print(\"Imported analysis\")\n",
    "  except ImportError:\n",
    "    pass\n",
    "    print(\"Didn't Imported analysis\")\n",
    "  else:\n",
    "    from pathlib import Path\n",
    "    cur_dir = Path(analysis.__file__)\n",
    "    import os\n",
    "    os.chdir(cur_dir.parent.parent)\n",
    "    print(\"Changing directories\")\n",
    "    import sys\n",
    "    del sys.modules[\"analysis\"]\n",
    "  from report import analysis\n",
    "  analysis.setMatplotlibParams(silent=True)\n",
    "setup()"
   ]
  },
  {
   "cell_type": "code",
   "execution_count": 3,
   "metadata": {},
   "outputs": [
    {
     "output_type": "stream",
     "name": "stdout",
     "text": [
      "TaskParam.py\n__pycache__\nanalysis.py\nanalysis_orig.py\nbatchconvert.py\nclr.py\ncmds.txt\ndates.py\ndefinitions.py\nevdaccum\nevdaccum.ipynb\nmat_reader.py\nmat_reader_core.py\nmat_to_py.py\nmatreader\nopto\nplayground.ipynb\nplotter.py\npsychofit\npsychometric.py\npy_Mouse2AFC\nsessionreport.ipynb\nsessionreport.py\nstackedperformance.py\nstates.py\nutils.py\n"
     ]
    }
   ],
   "source": []
  },
  {
   "cell_type": "code",
   "execution_count": 27,
   "metadata": {},
   "outputs": [
    {
     "output_type": "error",
     "ename": "ImportError",
     "evalue": "attempted relative import with no known parent package",
     "traceback": [
      "\u001b[1;31m---------------------------------------------------------------------------\u001b[0m",
      "\u001b[1;31mImportError\u001b[0m                               Traceback (most recent call last)",
      "\u001b[1;32m<ipython-input-27-797e5cb88750>\u001b[0m in \u001b[0;36m<module>\u001b[1;34m\u001b[0m\n\u001b[1;32m----> 1\u001b[1;33m \u001b[1;32mfrom\u001b[0m \u001b[0mreport\u001b[0m\u001b[1;33m.\u001b[0m\u001b[0mevdaccum\u001b[0m\u001b[1;33m.\u001b[0m\u001b[0mreactiontime\u001b[0m \u001b[1;32mimport\u001b[0m \u001b[0mreactionTime\u001b[0m\u001b[1;33m\u001b[0m\u001b[1;33m\u001b[0m\u001b[0m\n\u001b[0m\u001b[0;32m      2\u001b[0m \u001b[1;32mfrom\u001b[0m \u001b[0mreport\u001b[0m\u001b[1;33m.\u001b[0m\u001b[0mevdaccum\u001b[0m\u001b[1;33m.\u001b[0m\u001b[0mevdutils\u001b[0m \u001b[1;32mimport\u001b[0m \u001b[0mKargs\u001b[0m\u001b[1;33m\u001b[0m\u001b[1;33m\u001b[0m\u001b[0m\n\u001b[0;32m      3\u001b[0m \u001b[1;32mfrom\u001b[0m \u001b[0mreport\u001b[0m\u001b[1;33m.\u001b[0m\u001b[0mdefinitions\u001b[0m \u001b[1;32mimport\u001b[0m \u001b[0mExpType\u001b[0m\u001b[1;33m\u001b[0m\u001b[1;33m\u001b[0m\u001b[0m\n\u001b[0;32m      4\u001b[0m \u001b[1;33m\u001b[0m\u001b[0m\n\u001b[0;32m      5\u001b[0m \u001b[1;32mdef\u001b[0m \u001b[0mrun\u001b[0m\u001b[1;33m(\u001b[0m\u001b[1;33m)\u001b[0m\u001b[1;33m:\u001b[0m\u001b[1;33m\u001b[0m\u001b[1;33m\u001b[0m\u001b[0m\n",
      "\u001b[1;32mc:\\BpodUser\\Protocols\\Mouse2AFC\\report\\evdaccum\\reactiontime.py\u001b[0m in \u001b[0;36m<module>\u001b[1;34m\u001b[0m\n\u001b[0;32m      2\u001b[0m \u001b[1;32mimport\u001b[0m \u001b[0mmatplotlib\u001b[0m\u001b[1;33m.\u001b[0m\u001b[0mpyplot\u001b[0m \u001b[1;32mas\u001b[0m \u001b[0mplt\u001b[0m\u001b[1;33m\u001b[0m\u001b[1;33m\u001b[0m\u001b[0m\n\u001b[0;32m      3\u001b[0m \u001b[1;32mfrom\u001b[0m \u001b[0mdefinitions\u001b[0m \u001b[1;32mimport\u001b[0m \u001b[0mMouseState\u001b[0m\u001b[1;33m,\u001b[0m \u001b[0mExpType\u001b[0m\u001b[1;33m\u001b[0m\u001b[1;33m\u001b[0m\u001b[0m\n\u001b[1;32m----> 4\u001b[1;33m \u001b[1;32mimport\u001b[0m \u001b[0manalysis\u001b[0m\u001b[1;33m\u001b[0m\u001b[1;33m\u001b[0m\u001b[0m\n\u001b[0m\u001b[0;32m      5\u001b[0m \u001b[1;32mfrom\u001b[0m \u001b[1;33m.\u001b[0m\u001b[0mevdutils\u001b[0m \u001b[1;32mimport\u001b[0m \u001b[0mplotSides\u001b[0m\u001b[1;33m,\u001b[0m \u001b[0mplotShortLongWT\u001b[0m\u001b[1;33m\u001b[0m\u001b[1;33m\u001b[0m\u001b[0m\n\u001b[0;32m      6\u001b[0m \u001b[1;33m\u001b[0m\u001b[0m\n",
      "\u001b[1;32mc:\\BpodUser\\Protocols\\Mouse2AFC\\report\\analysis.py\u001b[0m in \u001b[0;36m<module>\u001b[1;34m\u001b[0m\n\u001b[0;32m     15\u001b[0m \u001b[1;32mimport\u001b[0m \u001b[0mpandas\u001b[0m \u001b[1;32mas\u001b[0m \u001b[0mpd\u001b[0m\u001b[1;33m\u001b[0m\u001b[1;33m\u001b[0m\u001b[0m\n\u001b[0;32m     16\u001b[0m \u001b[1;32mfrom\u001b[0m \u001b[0menum\u001b[0m \u001b[1;32mimport\u001b[0m \u001b[0mEnum\u001b[0m\u001b[1;33m,\u001b[0m \u001b[0mauto\u001b[0m\u001b[1;33m,\u001b[0m \u001b[0munique\u001b[0m\u001b[1;33m\u001b[0m\u001b[1;33m\u001b[0m\u001b[0m\n\u001b[1;32m---> 17\u001b[1;33m \u001b[1;32mfrom\u001b[0m \u001b[1;33m.\u001b[0m\u001b[0mutils\u001b[0m \u001b[1;32mimport\u001b[0m \u001b[0mgrpBySess\u001b[0m\u001b[1;33m\u001b[0m\u001b[1;33m\u001b[0m\u001b[0m\n\u001b[0m\u001b[0;32m     18\u001b[0m \u001b[1;32mfrom\u001b[0m \u001b[1;33m.\u001b[0m\u001b[0mdefinitions\u001b[0m \u001b[1;32mimport\u001b[0m \u001b[0mExpType\u001b[0m\u001b[1;33m\u001b[0m\u001b[1;33m\u001b[0m\u001b[0m\n\u001b[0;32m     19\u001b[0m \u001b[1;33m\u001b[0m\u001b[0m\n",
      "\u001b[1;31mImportError\u001b[0m: attempted relative import with no known parent package"
     ]
    }
   ],
   "source": [
    "from report.evdaccum.reactiontime import reactionTime\n",
    "from report.evdaccum.evdutils import Kargs\n",
    "from report.definitions import ExpType\n",
    "\n",
    "def run():\n",
    "  short_long_quantile = 0.3\n",
    "  vs_diff_kargs = Kargs(quantile_top_bottom=0, save_figs=False,\n",
    "                        exp_type=ExpType.RDK,\n",
    "                        #save_prefix=\"proto/x_VsDiff/\")\n",
    "                        save_prefix=\"proto/ReactionTimeShadlen/\")\n",
    "  import datetime as dt\n",
    "  # raw_df[(raw_df.Date != dt.date(2021,1,8)) & (raw_df.calcReactionTime < 2)]\n",
    "  reactionTime(raw_df, min_easiest_perf=75, cut_below_trial_num=30,\n",
    "              short_long_quantile=short_long_quantile, **vs_diff_kargs)\n",
    "run()"
   ]
  }
 ]
}